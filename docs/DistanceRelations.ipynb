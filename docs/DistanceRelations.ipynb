{
 "cells": [
  {
   "cell_type": "markdown",
   "id": "8c998d5d-7936-4889-8d6a-5fc6655a9551",
   "metadata": {},
   "source": [
    "# Distance relations"
   ]
  },
  {
   "cell_type": "markdown",
   "id": "f37fed01-3416-423b-942a-6b5f949791eb",
   "metadata": {},
   "source": [
    ">Distance is a continuous variable"
   ]
  },
  {
   "cell_type": "code",
   "execution_count": 1,
   "id": "a14e2910-a46a-4324-861f-4177e7064899",
   "metadata": {},
   "outputs": [],
   "source": [
    "import geopandas as gpd \n",
    "from helpers import nz_height, canterbury, nz\n",
    "%matplotlib inline \n",
    "import matplotlib.pyplot as plt "
   ]
  },
  {
   "cell_type": "code",
   "execution_count": 2,
   "id": "39b15ad1-f811-43cc-b790-1a557e90ba7d",
   "metadata": {},
   "outputs": [
    {
     "data": {
      "text/html": [
       "<div>\n",
       "<style scoped>\n",
       "    .dataframe tbody tr th:only-of-type {\n",
       "        vertical-align: middle;\n",
       "    }\n",
       "\n",
       "    .dataframe tbody tr th {\n",
       "        vertical-align: top;\n",
       "    }\n",
       "\n",
       "    .dataframe thead th {\n",
       "        text-align: right;\n",
       "    }\n",
       "</style>\n",
       "<table border=\"1\" class=\"dataframe\">\n",
       "  <thead>\n",
       "    <tr style=\"text-align: right;\">\n",
       "      <th></th>\n",
       "      <th>t50_fid</th>\n",
       "      <th>elevation</th>\n",
       "      <th>geometry</th>\n",
       "    </tr>\n",
       "  </thead>\n",
       "  <tbody>\n",
       "    <tr>\n",
       "      <th>64</th>\n",
       "      <td>2372236</td>\n",
       "      <td>3724</td>\n",
       "      <td>POINT (1369317.63 5169132.284)</td>\n",
       "    </tr>\n",
       "    <tr>\n",
       "      <th>63</th>\n",
       "      <td>2372235</td>\n",
       "      <td>3717</td>\n",
       "      <td>POINT (1369512.866 5168235.616)</td>\n",
       "    </tr>\n",
       "    <tr>\n",
       "      <th>67</th>\n",
       "      <td>2372252</td>\n",
       "      <td>3688</td>\n",
       "      <td>POINT (1369381.942 5168761.875)</td>\n",
       "    </tr>\n",
       "  </tbody>\n",
       "</table>\n",
       "</div>"
      ],
      "text/plain": [
       "    t50_fid  elevation                         geometry\n",
       "64  2372236       3724   POINT (1369317.63 5169132.284)\n",
       "63  2372235       3717  POINT (1369512.866 5168235.616)\n",
       "67  2372252       3688  POINT (1369381.942 5168761.875)"
      ]
     },
     "execution_count": 2,
     "metadata": {},
     "output_type": "execute_result"
    }
   ],
   "source": [
    "nz_highest = nz_height.sort_values(by='elevation', \n",
    "                     ascending=False).iloc[:3, :]\n",
    "nz_highest"
   ]
  },
  {
   "cell_type": "code",
   "execution_count": 3,
   "id": "858f9520-ccb6-4003-b3bf-bf07e961ec45",
   "metadata": {},
   "outputs": [
    {
     "data": {
      "text/plain": [
       "Name                                                    Canterbury\n",
       "Island                                                       South\n",
       "Land_area                                             44504.499091\n",
       "Population                                                612000.0\n",
       "Median_income                                                30100\n",
       "Sex_ratio                                                 0.975327\n",
       "geometry         MULTIPOLYGON (((1686901.9139 5353232.6602, 167...\n",
       "Name: 0, dtype: object"
      ]
     },
     "execution_count": 3,
     "metadata": {},
     "output_type": "execute_result"
    }
   ],
   "source": [
    "canterbury.iloc[0]"
   ]
  },
  {
   "cell_type": "code",
   "execution_count": 4,
   "id": "bba2770e-b6c0-44f6-b0aa-67c6b9f05e2a",
   "metadata": {},
   "outputs": [],
   "source": [
    "canterbury_centroid = canterbury.centroid.iloc[0]"
   ]
  },
  {
   "cell_type": "markdown",
   "id": "a3c9b582-a454-435a-b9ca-8f6c82462a63",
   "metadata": {},
   "source": [
    ">Calculate the distance from each of the three elevation points"
   ]
  },
  {
   "cell_type": "code",
   "execution_count": 5,
   "id": "76e6a9f0-d1ca-4c85-98fd-4b0ab999b574",
   "metadata": {},
   "outputs": [
    {
     "data": {
      "text/plain": [
       "64    115539.995747\n",
       "63    115390.248038\n",
       "67    115493.594066\n",
       "dtype: float64"
      ]
     },
     "execution_count": 5,
     "metadata": {},
     "output_type": "execute_result"
    }
   ],
   "source": [
    "nz_highest.distance(canterbury_centroid)"
   ]
  },
  {
   "cell_type": "markdown",
   "id": "21908114-202d-467b-8579-b87b286d0233",
   "metadata": {},
   "source": [
    ">A distance matrix is a pairwise set of distances between all feature combinations"
   ]
  },
  {
   "cell_type": "code",
   "execution_count": 6,
   "id": "6e930083-821e-4daf-9792-40867031779c",
   "metadata": {},
   "outputs": [
    {
     "name": "stdout",
     "output_type": "stream",
     "text": [
      "          Name Island     Land_area  Population  Median_income  Sex_ratio  \\\n",
      "10  Canterbury  South  44504.499091    612000.0          30100   0.975327   \n",
      "11       Otago  South  31186.309188    224200.0          26300   0.951169   \n",
      "\n",
      "                                             geometry  \n",
      "10  MULTIPOLYGON (((1686901.914 5353232.66, 167999...  \n",
      "11  MULTIPOLYGON (((1335204.789 5126878.25, 133695...  \n"
     ]
    }
   ],
   "source": [
    "sel = nz.Name.str.contains('Canter|Otag')\n",
    "co = nz[sel]\n",
    "print(co)"
   ]
  },
  {
   "cell_type": "code",
   "execution_count": 7,
   "id": "0432cc7e-eb26-4117-b08f-1166eaa53305",
   "metadata": {},
   "outputs": [
    {
     "name": "stdout",
     "output_type": "stream",
     "text": [
      "              10            11\n",
      "0  123537.158269  15497.717252\n",
      "1   94282.773074      0.000000\n",
      "2   93018.560814      0.000000\n"
     ]
    }
   ],
   "source": [
    "d = nz_height.iloc[:3, :].apply(\n",
    "    lambda x: co.distance(x.geometry), axis=1\n",
    ")\n",
    "print(d)"
   ]
  },
  {
   "cell_type": "code",
   "execution_count": 11,
   "id": "d6bc4dff-707c-4c68-a3cf-4eb70de70b2e",
   "metadata": {},
   "outputs": [
    {
     "data": {
      "image/png": "[encoded data removed]",
      "text/plain": [
       "<Figure size 640x480 with 1 Axes>"
      ]
     },
     "metadata": {},
     "output_type": "display_data"
    }
   ],
   "source": [
    "fig, ax = plt.subplots() \n",
    "co.plot(ax=ax, color='lightgrey', edgecolor='k')\n",
    "co.apply(\n",
    "    lambda x: ax.annotate(\n",
    "        text=x.Name, \n",
    "        xy = x.geometry.centroid.coords[0], \n",
    "        ha='center'\n",
    "    ), \n",
    "    axis=1\n",
    ")\n",
    "nz_height.iloc[:3,:].plot(ax=ax, color='none', edgecolor='k');"
   ]
  },
  {
   "cell_type": "code",
   "execution_count": null,
   "id": "431e7ac1-b06e-48e7-ac95-8c0b524cdb24",
   "metadata": {},
   "outputs": [],
   "source": []
  }
 ],
 "metadata": {
  "kernelspec": {
   "display_name": "Python 3 (ipykernel)",
   "language": "python",
   "name": "python3"
  },
  "language_info": {
   "codemirror_mode": {
    "name": "ipython",
    "version": 3
   },
   "file_extension": ".py",
   "mimetype": "text/x-python",
   "name": "python",
   "nbconvert_exporter": "python",
   "pygments_lexer": "ipython3",
   "version": "3.12.7"
  }
 },
 "nbformat": 4,
 "nbformat_minor": 5
}
