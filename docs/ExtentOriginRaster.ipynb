{
 "cells": [
  {
   "cell_type": "markdown",
   "id": "0dda52da-18fa-43af-acd3-a1887eb59262",
   "metadata": {},
   "source": [
    "# Changing raster extents and origin\n",
    "\n",
    "- Map algebra on rasters require matching resolution, projection, origin and/or extent\n",
    "- Usually alignment is done through resampling\n",
    "- Can modify manually, eg. add/remove rows or change extents"
   ]
  },
  {
   "cell_type": "code",
   "execution_count": 20,
   "id": "90e0664e-e84a-49bd-b361-63d3bef2e9a1",
   "metadata": {},
   "outputs": [],
   "source": [
    "from helpers import src_elev\n",
    "import numpy as np\n",
    "import geopandas as gpd\n",
    "import rasterio\n",
    "import rasterio.plot\n",
    "import shapely\n",
    "%matplotlib inline \n",
    "import matplotlib.pyplot as plt"
   ]
  },
  {
   "cell_type": "code",
   "execution_count": 13,
   "id": "44076d68-2231-4227-b61c-ac5fc935f73b",
   "metadata": {},
   "outputs": [
    {
     "data": {
      "text/plain": [
       "array([[ 1,  2,  3,  4,  5,  6],\n",
       "       [ 7,  8,  9, 10, 11, 12],\n",
       "       [13, 14, 15, 16, 17, 18],\n",
       "       [19, 20, 21, 22, 23, 24],\n",
       "       [25, 26, 27, 28, 29, 30],\n",
       "       [31, 32, 33, 34, 35, 36]], dtype=uint8)"
      ]
     },
     "execution_count": 13,
     "metadata": {},
     "output_type": "execute_result"
    }
   ],
   "source": [
    "r = src_elev.read(1)\n",
    "r"
   ]
  },
  {
   "cell_type": "code",
   "execution_count": 14,
   "id": "d7e99743-6b55-485a-bf98-aa2643bde70b",
   "metadata": {},
   "outputs": [
    {
     "data": {
      "text/plain": [
       "array([[18, 18, 18, 18, 18, 18, 18, 18, 18, 18],\n",
       "       [18, 18,  1,  2,  3,  4,  5,  6, 18, 18],\n",
       "       [18, 18,  7,  8,  9, 10, 11, 12, 18, 18],\n",
       "       [18, 18, 13, 14, 15, 16, 17, 18, 18, 18],\n",
       "       [18, 18, 19, 20, 21, 22, 23, 24, 18, 18],\n",
       "       [18, 18, 25, 26, 27, 28, 29, 30, 18, 18],\n",
       "       [18, 18, 31, 32, 33, 34, 35, 36, 18, 18],\n",
       "       [18, 18, 18, 18, 18, 18, 18, 18, 18, 18]], dtype=uint8)"
      ]
     },
     "execution_count": 14,
     "metadata": {},
     "output_type": "execute_result"
    }
   ],
   "source": [
    "rows, cols = 1, 2\n",
    "r_pad = np.pad(r, ((rows, rows), (cols, cols)),\n",
    "              constant_values=18)\n",
    "r_pad"
   ]
  },
  {
   "cell_type": "markdown",
   "id": "282929d5-6d90-41b2-835f-10e34ee1e815",
   "metadata": {},
   "source": [
    ">Padding changes the origin, so the transformation matrix needs to be modified.\n",
    ">\n",
    ">Transformation matrix in `.transform`"
   ]
  },
  {
   "cell_type": "code",
   "execution_count": 23,
   "id": "18b62eb2-83f4-4e8b-a0d4-01cb2b9307c4",
   "metadata": {},
   "outputs": [
    {
     "data": {
      "text/plain": [
       "Affine(0.5, 0.0, -1.5,\n",
       "       0.0, -0.5, 1.5)"
      ]
     },
     "execution_count": 23,
     "metadata": {},
     "output_type": "execute_result"
    }
   ],
   "source": [
    "src_elev.transform"
   ]
  },
  {
   "cell_type": "markdown",
   "id": "cf9c3389-5aa4-40ac-8923-03a2124c9d2a",
   "metadata": {},
   "source": [
    ">Get the origin and resolution (dist btwn pixels)"
   ]
  },
  {
   "cell_type": "code",
   "execution_count": 24,
   "id": "96e4e27a-1fa4-4bf7-8839-05494c79786f",
   "metadata": {},
   "outputs": [
    {
     "data": {
      "text/plain": [
       "(-1.5, 1.5)"
      ]
     },
     "execution_count": 24,
     "metadata": {},
     "output_type": "execute_result"
    }
   ],
   "source": [
    "xmin, ymax = src_elev.transform[2], src_elev.transform[5]\n",
    "xmin, ymax"
   ]
  },
  {
   "cell_type": "code",
   "execution_count": 25,
   "id": "7ff7d84e-5a6f-48fd-89a6-8e44cd913987",
   "metadata": {},
   "outputs": [
    {
     "data": {
      "text/plain": [
       "(0.5, -0.5)"
      ]
     },
     "execution_count": 25,
     "metadata": {},
     "output_type": "execute_result"
    }
   ],
   "source": [
    "dx, dy = src_elev.transform[0], src_elev.transform[4]\n",
    "dx, dy"
   ]
  },
  {
   "cell_type": "code",
   "execution_count": 27,
   "id": "82272b00-a3c1-44c7-ac12-edfcda4665bf",
   "metadata": {},
   "outputs": [
    {
     "data": {
      "text/plain": [
       "(-2.5, 2.0)"
      ]
     },
     "execution_count": 27,
     "metadata": {},
     "output_type": "execute_result"
    }
   ],
   "source": [
    "xmin_new = xmin - dx * cols \n",
    "ymax_new = ymax - dy * rows \n",
    "xmin_new, ymax_new"
   ]
  },
  {
   "cell_type": "code",
   "execution_count": 28,
   "id": "0b5892af-5783-4ace-a25d-79db52ffb773",
   "metadata": {},
   "outputs": [
    {
     "data": {
      "text/plain": [
       "Affine(0.5, 0.0, -2.5,\n",
       "       0.0, -0.5, 2.0)"
      ]
     },
     "execution_count": 28,
     "metadata": {},
     "output_type": "execute_result"
    }
   ],
   "source": [
    "new_transform = rasterio.transform.from_origin(\n",
    "    west=xmin_new, \n",
    "    north=ymax_new, \n",
    "    xsize=dx, \n",
    "    ysize=abs(dy)\n",
    ")\n",
    "new_transform"
   ]
  },
  {
   "cell_type": "code",
   "execution_count": 30,
   "id": "d620f341-a9a5-4adc-8b2f-48baca472496",
   "metadata": {},
   "outputs": [
    {
     "data": {
      "text/plain": [
       "0    POLYGON ((1.5 -1.5, 1.5 1.5, -1.5 1.5, -1.5 -1...\n",
       "dtype: geometry"
      ]
     },
     "execution_count": 30,
     "metadata": {},
     "output_type": "execute_result"
    }
   ],
   "source": [
    "elev_bbox = gpd.GeoSeries(shapely.box(*src_elev.bounds))\n",
    "elev_bbox"
   ]
  },
  {
   "cell_type": "code",
   "execution_count": 31,
   "id": "a489a7bb-7332-4555-ac68-feb3181c0b5a",
   "metadata": {},
   "outputs": [
    {
     "data": {
      "image/png": "[encoded data removed]",
      "text/plain": [
       "<Figure size 640x480 with 1 Axes>"
      ]
     },
     "metadata": {},
     "output_type": "display_data"
    }
   ],
   "source": [
    "fig, ax = plt.subplots()\n",
    "rasterio.plot.show(r_pad, transform=new_transform, cmap='Greys', ax=ax)\n",
    "elev_bbox.plot(color='none', ec='r', ax=ax);"
   ]
  },
  {
   "cell_type": "markdown",
   "id": "d0118fb1-1080-45b5-af94-f00c54935e5e",
   "metadata": {},
   "source": [
    ">Manually shift origin\n",
    ">\n",
    ">shift elev.tif by (-0.25,0.25)"
   ]
  },
  {
   "cell_type": "code",
   "execution_count": 32,
   "id": "cb765caf-f6bc-4227-af8d-b4199d05ba9a",
   "metadata": {},
   "outputs": [
    {
     "data": {
      "text/plain": [
       "(-1.75, 1.75)"
      ]
     },
     "execution_count": 32,
     "metadata": {},
     "output_type": "execute_result"
    }
   ],
   "source": [
    "xmin_new = xmin - 0.25\n",
    "ymax_new = ymax + 0.25\n",
    "xmin_new, ymax_new"
   ]
  },
  {
   "cell_type": "code",
   "execution_count": 33,
   "id": "69ca61b8-1351-4c97-89eb-59de15aecd16",
   "metadata": {},
   "outputs": [
    {
     "data": {
      "text/plain": [
       "Affine(0.5, 0.0, -1.75,\n",
       "       0.0, -0.5, 1.75)"
      ]
     },
     "execution_count": 33,
     "metadata": {},
     "output_type": "execute_result"
    }
   ],
   "source": [
    "new_transform = rasterio.transform.from_origin(\n",
    "    west=xmin_new, \n",
    "    north=ymax_new, \n",
    "    xsize=dx, \n",
    "    ysize=abs(dy)\n",
    ")\n",
    "new_transform"
   ]
  },
  {
   "cell_type": "code",
   "execution_count": 34,
   "id": "c75e0e78-dd3e-4308-ac53-cf4dfd9b0cd3",
   "metadata": {},
   "outputs": [
    {
     "data": {
      "image/png": "[encoded data removed]",
      "text/plain": [
       "<Figure size 640x480 with 1 Axes>"
      ]
     },
     "metadata": {},
     "output_type": "display_data"
    }
   ],
   "source": [
    "fig, ax = plt.subplots()\n",
    "rasterio.plot.show(r, transform=new_transform, cmap='Greys', ax=ax)\n",
    "elev_bbox.plot(color='none', ec='r', ax=ax);"
   ]
  },
  {
   "cell_type": "code",
   "execution_count": null,
   "id": "d311a9f3-d36d-40aa-82a6-ad014941b9d6",
   "metadata": {},
   "outputs": [],
   "source": []
  }
 ],
 "metadata": {
  "kernelspec": {
   "display_name": "Python 3 (ipykernel)",
   "language": "python",
   "name": "python3"
  },
  "language_info": {
   "codemirror_mode": {
    "name": "ipython",
    "version": 3
   },
   "file_extension": ".py",
   "mimetype": "text/x-python",
   "name": "python",
   "nbconvert_exporter": "python",
   "pygments_lexer": "ipython3",
   "version": "3.12.7"
  }
 },
 "nbformat": 4,
 "nbformat_minor": 5
}
