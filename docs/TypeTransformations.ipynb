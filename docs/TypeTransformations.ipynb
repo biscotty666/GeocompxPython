{
 "cells": [
  {
   "cell_type": "markdown",
   "id": "104c057e-f4bc-4095-bda9-8425b9ee9d45",
   "metadata": {},
   "source": [
    "# Type transformations\n",
    "\n",
    "Transforming individual geometries: \n",
    "\n",
    "- `MultiPoint` to `LineString`\n",
    "- `MultiPoint` to `Polygon`\n",
    "- `LineString` to `MultiPoint`\n",
    "- `Polygon` to `MultiPoint`\n",
    "- `Polygon`s to `MultiPolygon`\n",
    "- `MultiPolygon`s to `Polygon`s\n",
    "\n",
    "Casting workflows on GeoDataFrames\n",
    "- keep track of attributes\n",
    "- may dissolve as well as combine\n",
    "- `MultiLineString` to `LineString` (w/ `explode`)\n",
    "- `LineString` to `MultiPoint` (w/ `apply`)\n",
    "- `LineString` to `MultiLineString` (w/ `dissolve`)\n",
    "- `Polygon`s to `MultiPolygon`(w/ `dissolve` or `agg`)\n",
    "- `Polygon`s to `(Multi)LineString`s\n"
   ]
  },
  {
   "cell_type": "markdown",
   "id": "8a047889-054e-4016-9d54-eae0bdbc9cff",
   "metadata": {},
   "source": [
    "- multipoint to linestring is commonely used to create lines from ordered point observations allowing spatial operations such as length of path\n",
    "- multipoint/linestring to polygon often used to calculate an area, eg. a set of GPS measurements taken in a certain area"
   ]
  },
  {
   "cell_type": "code",
   "execution_count": 1,
   "id": "ffdbbe9d-96bd-438e-a87e-46cc9ca9f4e8",
   "metadata": {},
   "outputs": [],
   "source": [
    "import shapely \n",
    "import geopandas as gpd"
   ]
  },
  {
   "cell_type": "markdown",
   "id": "6956acd8-7636-4771-9fad-69b427786c93",
   "metadata": {},
   "source": [
    "## Individual-geometry casting"
   ]
  },
  {
   "cell_type": "code",
   "execution_count": 2,
   "id": "34116ae2-8621-42c8-9a5b-d3e6a87451e0",
   "metadata": {},
   "outputs": [
    {
     "data": {
      "image/svg+xml": [
       "<svg xmlns=\"http://www.w3.org/2000/svg\" xmlns:xlink=\"http://www.w3.org/1999/xlink\" width=\"100.0\" height=\"100.0\" viewBox=\"0.84 0.84 4.32 2.3200000000000003\" preserveAspectRatio=\"xMinYMin meet\"><g transform=\"matrix(1,0,0,-1,0,4.0)\"><g><circle cx=\"1.0\" cy=\"1.0\" r=\"0.1296\" stroke=\"#555555\" stroke-width=\"0.0432\" fill=\"#66cc99\" opacity=\"0.6\" /><circle cx=\"3.0\" cy=\"3.0\" r=\"0.1296\" stroke=\"#555555\" stroke-width=\"0.0432\" fill=\"#66cc99\" opacity=\"0.6\" /><circle cx=\"5.0\" cy=\"1.0\" r=\"0.1296\" stroke=\"#555555\" stroke-width=\"0.0432\" fill=\"#66cc99\" opacity=\"0.6\" /></g></g></svg>"
      ],
      "text/plain": [
       "<MULTIPOINT ((1 1), (3 3), (5 1))>"
      ]
     },
     "execution_count": 2,
     "metadata": {},
     "output_type": "execute_result"
    }
   ],
   "source": [
    "multipoint = shapely.MultiPoint([(1,1), (3,3), (5,1)])\n",
    "multipoint"
   ]
  },
  {
   "cell_type": "code",
   "execution_count": 3,
   "id": "217e3307-5cab-4754-a6a8-9b290846f59f",
   "metadata": {},
   "outputs": [
    {
     "data": {
      "image/svg+xml": [
       "<svg xmlns=\"http://www.w3.org/2000/svg\" xmlns:xlink=\"http://www.w3.org/1999/xlink\" width=\"100.0\" height=\"100.0\" viewBox=\"0.84 0.84 4.32 2.3200000000000003\" preserveAspectRatio=\"xMinYMin meet\"><g transform=\"matrix(1,0,0,-1,0,4.0)\"><polyline fill=\"none\" stroke=\"#66cc99\" stroke-width=\"0.0864\" points=\"1.0,1.0 3.0,3.0 5.0,1.0\" opacity=\"0.8\" /></g></svg>"
      ],
      "text/plain": [
       "<LINESTRING (1 1, 3 3, 5 1)>"
      ]
     },
     "execution_count": 3,
     "metadata": {},
     "output_type": "execute_result"
    }
   ],
   "source": [
    "linestring = shapely.LineString(multipoint.geoms)\n",
    "linestring"
   ]
  },
  {
   "cell_type": "code",
   "execution_count": 5,
   "id": "8fa47173-b98a-4916-a741-a309a38e1d44",
   "metadata": {},
   "outputs": [
    {
     "data": {
      "image/svg+xml": [
       "<svg xmlns=\"http://www.w3.org/2000/svg\" xmlns:xlink=\"http://www.w3.org/1999/xlink\" width=\"100.0\" height=\"100.0\" viewBox=\"0.84 0.84 4.32 2.3200000000000003\" preserveAspectRatio=\"xMinYMin meet\"><g transform=\"matrix(1,0,0,-1,0,4.0)\"><path fill-rule=\"evenodd\" fill=\"#66cc99\" stroke=\"#555555\" stroke-width=\"0.0864\" opacity=\"0.6\" d=\"M 1.0,1.0 L 3.0,3.0 L 5.0,1.0 L 1.0,1.0 z\" /></g></svg>"
      ],
      "text/plain": [
       "<POLYGON ((1 1, 3 3, 5 1, 1 1))>"
      ]
     },
     "execution_count": 5,
     "metadata": {},
     "output_type": "execute_result"
    }
   ],
   "source": [
    "polygon = shapely.Polygon(multipoint.geoms)\n",
    "polygon"
   ]
  },
  {
   "cell_type": "code",
   "execution_count": 7,
   "id": "2e75f4e4-14cb-436a-b067-9ec0144b77fa",
   "metadata": {},
   "outputs": [
    {
     "data": {
      "image/png": "[encoded data removed]",
      "text/plain": [
       "<Figure size 640x480 with 1 Axes>"
      ]
     },
     "metadata": {},
     "output_type": "display_data"
    },
    {
     "data": {
      "image/png": "[encoded data removed]",
      "text/plain": [
       "<Figure size 640x480 with 1 Axes>"
      ]
     },
     "metadata": {},
     "output_type": "display_data"
    },
    {
     "data": {
      "image/png": "[encoded data removed]",
      "text/plain": [
       "<Figure size 640x480 with 1 Axes>"
      ]
     },
     "metadata": {},
     "output_type": "display_data"
    }
   ],
   "source": [
    "gpd.GeoSeries(multipoint).plot(); \n",
    "gpd.GeoSeries(linestring).plot(); \n",
    "gpd.GeoSeries(polygon).plot();"
   ]
  },
  {
   "cell_type": "markdown",
   "id": "7cdf4b87-c4f8-434c-bff0-a21454744685",
   "metadata": {},
   "source": [
    ">Can convert back"
   ]
  },
  {
   "cell_type": "code",
   "execution_count": 8,
   "id": "87b6064d-af4d-467d-aced-c925569d2d4a",
   "metadata": {},
   "outputs": [
    {
     "data": {
      "image/svg+xml": [
       "<svg xmlns=\"http://www.w3.org/2000/svg\" xmlns:xlink=\"http://www.w3.org/1999/xlink\" width=\"100.0\" height=\"100.0\" viewBox=\"0.84 0.84 4.32 2.3200000000000003\" preserveAspectRatio=\"xMinYMin meet\"><g transform=\"matrix(1,0,0,-1,0,4.0)\"><g><circle cx=\"1.0\" cy=\"1.0\" r=\"0.1296\" stroke=\"#555555\" stroke-width=\"0.0432\" fill=\"#66cc99\" opacity=\"0.6\" /><circle cx=\"3.0\" cy=\"3.0\" r=\"0.1296\" stroke=\"#555555\" stroke-width=\"0.0432\" fill=\"#66cc99\" opacity=\"0.6\" /><circle cx=\"5.0\" cy=\"1.0\" r=\"0.1296\" stroke=\"#555555\" stroke-width=\"0.0432\" fill=\"#66cc99\" opacity=\"0.6\" /></g></g></svg>"
      ],
      "text/plain": [
       "<MULTIPOINT ((1 1), (3 3), (5 1))>"
      ]
     },
     "execution_count": 8,
     "metadata": {},
     "output_type": "execute_result"
    }
   ],
   "source": [
    "shapely.MultiPoint(linestring.coords)"
   ]
  },
  {
   "cell_type": "code",
   "execution_count": 9,
   "id": "77f218fd-b151-447f-81df-9994bec74427",
   "metadata": {},
   "outputs": [
    {
     "data": {
      "image/svg+xml": [
       "<svg xmlns=\"http://www.w3.org/2000/svg\" xmlns:xlink=\"http://www.w3.org/1999/xlink\" width=\"100.0\" height=\"100.0\" viewBox=\"0.84 0.84 4.32 2.3200000000000003\" preserveAspectRatio=\"xMinYMin meet\"><g transform=\"matrix(1,0,0,-1,0,4.0)\"><g><circle cx=\"1.0\" cy=\"1.0\" r=\"0.1296\" stroke=\"#555555\" stroke-width=\"0.0432\" fill=\"#66cc99\" opacity=\"0.6\" /><circle cx=\"3.0\" cy=\"3.0\" r=\"0.1296\" stroke=\"#555555\" stroke-width=\"0.0432\" fill=\"#66cc99\" opacity=\"0.6\" /><circle cx=\"5.0\" cy=\"1.0\" r=\"0.1296\" stroke=\"#555555\" stroke-width=\"0.0432\" fill=\"#66cc99\" opacity=\"0.6\" /><circle cx=\"1.0\" cy=\"1.0\" r=\"0.1296\" stroke=\"#555555\" stroke-width=\"0.0432\" fill=\"#66cc99\" opacity=\"0.6\" /></g></g></svg>"
      ],
      "text/plain": [
       "<MULTIPOINT ((1 1), (3 3), (5 1), (1 1))>"
      ]
     },
     "execution_count": 9,
     "metadata": {},
     "output_type": "execute_result"
    }
   ],
   "source": [
    "shapely.MultiPoint(polygon.exterior.coords)"
   ]
  },
  {
   "cell_type": "code",
   "execution_count": null,
   "id": "181526e0-1cd1-454d-b99b-09854858212b",
   "metadata": {},
   "outputs": [],
   "source": []
  }
 ],
 "metadata": {
  "kernelspec": {
   "display_name": "Python 3 (ipykernel)",
   "language": "python",
   "name": "python3"
  },
  "language_info": {
   "codemirror_mode": {
    "name": "ipython",
    "version": 3
   },
   "file_extension": ".py",
   "mimetype": "text/x-python",
   "name": "python",
   "nbconvert_exporter": "python",
   "pygments_lexer": "ipython3",
   "version": "3.12.7"
  }
 },
 "nbformat": 4,
 "nbformat_minor": 5
}
