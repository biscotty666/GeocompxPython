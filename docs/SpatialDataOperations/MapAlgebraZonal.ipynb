{
 "cells": [
  {
   "cell_type": "markdown",
   "id": "3253db17-9d1e-49cc-9eaf-37f90a65f765",
   "metadata": {},
   "source": [
    "# Zonal operations\n",
    "\n",
    "- applies a second raster, usually with categorical values\n",
    "- does not require to be neighbors\n",
    "- results in a summary table grouped by zone"
   ]
  },
  {
   "cell_type": "markdown",
   "id": "b75cf853-54a4-4f00-b4bb-d7e83b30796c",
   "metadata": {},
   "source": [
    ">Calculate the average of elevation in each zone defined by grain values"
   ]
  },
  {
   "cell_type": "code",
   "execution_count": 1,
   "id": "47929d2a-5799-4476-9224-dc32edb4dd37",
   "metadata": {},
   "outputs": [],
   "source": [
    "import rasterio\n",
    "import numpy as np \n",
    "%matplotlib inline \n",
    "import matplotlib.pyplot as plt \n",
    "from helpers import src_grain, src_elev"
   ]
  },
  {
   "cell_type": "code",
   "execution_count": 2,
   "id": "25ee1d9d-06af-41fc-a4ce-0adb81c34566",
   "metadata": {},
   "outputs": [],
   "source": [
    "elev = src_elev.read(1)\n",
    "grain = src_grain.read(1)"
   ]
  },
  {
   "cell_type": "code",
   "execution_count": 3,
   "id": "1f93fb93-865e-4ea2-9a90-633d570ee0f3",
   "metadata": {},
   "outputs": [
    {
     "data": {
      "text/plain": [
       "array([0, 1, 2], dtype=uint8)"
      ]
     },
     "execution_count": 3,
     "metadata": {},
     "output_type": "execute_result"
    }
   ],
   "source": [
    "np.unique(grain)"
   ]
  },
  {
   "cell_type": "code",
   "execution_count": 4,
   "id": "f15cbcbb-8fd0-4d84-921c-6ed684d6fc5f",
   "metadata": {},
   "outputs": [
    {
     "data": {
      "text/plain": [
       "{0: array([ 2,  7,  9, 10, 13, 16, 17, 19, 20, 35], dtype=uint8),\n",
       " 1: array([ 1,  3, 12, 21, 22, 23, 24, 25, 26, 27, 29, 30, 32], dtype=uint8),\n",
       " 2: array([ 4,  5,  6,  8, 11, 14, 15, 18, 28, 31, 33, 34, 36], dtype=uint8)}"
      ]
     },
     "execution_count": 4,
     "metadata": {},
     "output_type": "execute_result"
    }
   ],
   "source": [
    "z = {i: elev[grain == i] for i in np.unique(grain)}\n",
    "z"
   ]
  },
  {
   "cell_type": "code",
   "execution_count": 5,
   "id": "17a3755e-e11a-4a5e-8c1d-9cc14c714059",
   "metadata": {},
   "outputs": [
    {
     "data": {
      "text/plain": [
       "{0: 14.8, 1: 21.2, 2: 18.7}"
      ]
     },
     "execution_count": 5,
     "metadata": {},
     "output_type": "execute_result"
    }
   ],
   "source": [
    "z = {i: elev[grain == i].mean().round(1) for i in np.unique(grain)}\n",
    "z"
   ]
  },
  {
   "cell_type": "code",
   "execution_count": null,
   "id": "afac02bd-6820-4153-ade1-d5776b4e41de",
   "metadata": {},
   "outputs": [],
   "source": []
  }
 ],
 "metadata": {
  "kernelspec": {
   "display_name": "Python 3 (ipykernel)",
   "language": "python",
   "name": "python3"
  },
  "language_info": {
   "codemirror_mode": {
    "name": "ipython",
    "version": 3
   },
   "file_extension": ".py",
   "mimetype": "text/x-python",
   "name": "python",
   "nbconvert_exporter": "python",
   "pygments_lexer": "ipython3",
   "version": "3.12.7"
  }
 },
 "nbformat": 4,
 "nbformat_minor": 5
}
